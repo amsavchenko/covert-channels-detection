{
 "cells": [
  {
   "cell_type": "code",
   "execution_count": 1,
   "metadata": {
    "ExecuteTime": {
     "end_time": "2020-12-10T18:35:23.569498Z",
     "start_time": "2020-12-10T18:35:22.078075Z"
    }
   },
   "outputs": [],
   "source": [
    "from matplotlib import pyplot as plt\n",
    "import numpy as np\n",
    "import pandas as pd\n",
    "from scipy.stats import kendalltau\n",
    "import seaborn as sns\n",
    "from sklearn.ensemble import GradientBoostingClassifier, RandomForestClassifier\n",
    "from sklearn.feature_selection import chi2, f_classif, RFE, SelectKBest\n",
    "from sklearn.inspection import permutation_importance\n",
    "from sklearn.linear_model import LogisticRegression\n",
    "from sklearn.metrics import accuracy_score, f1_score\n",
    "from sklearn.model_selection import cross_val_score, RandomizedSearchCV, StratifiedKFold\n",
    "from sklearn.preprocessing import MinMaxScaler, StandardScaler\n",
    "from sklearn.svm import SVC\n",
    "from sklearn.tree import DecisionTreeClassifier, plot_tree\n",
    "import warnings\n",
    "\n",
    "%matplotlib inline\n",
    "warnings.filterwarnings('ignore')"
   ]
  },
  {
   "cell_type": "code",
   "execution_count": 2,
   "metadata": {
    "ExecuteTime": {
     "end_time": "2020-12-10T18:35:25.075270Z",
     "start_time": "2020-12-10T18:35:25.072598Z"
    }
   },
   "outputs": [],
   "source": [
    "random_state = 505"
   ]
  },
  {
   "cell_type": "code",
   "execution_count": 3,
   "metadata": {
    "ExecuteTime": {
     "end_time": "2020-12-10T18:35:25.551797Z",
     "start_time": "2020-12-10T18:35:25.474825Z"
    }
   },
   "outputs": [
    {
     "data": {
      "text/html": [
       "<div>\n",
       "<style scoped>\n",
       "    .dataframe tbody tr th:only-of-type {\n",
       "        vertical-align: middle;\n",
       "    }\n",
       "\n",
       "    .dataframe tbody tr th {\n",
       "        vertical-align: top;\n",
       "    }\n",
       "\n",
       "    .dataframe thead th {\n",
       "        text-align: right;\n",
       "    }\n",
       "</style>\n",
       "<table border=\"1\" class=\"dataframe\">\n",
       "  <thead>\n",
       "    <tr style=\"text-align: right;\">\n",
       "      <th></th>\n",
       "      <th>Covert</th>\n",
       "      <th>Mean</th>\n",
       "      <th>Std</th>\n",
       "      <th>Median</th>\n",
       "      <th>Skew</th>\n",
       "      <th>Kurtosis</th>\n",
       "      <th>NumberUniqueValues</th>\n",
       "      <th>ModeFreq</th>\n",
       "      <th>NumberModesKDE</th>\n",
       "      <th>NumberModesPareto</th>\n",
       "      <th>...</th>\n",
       "      <th>1stLocOfMinimum</th>\n",
       "      <th>RatioBeyond2.5</th>\n",
       "      <th>ValueCounts_4</th>\n",
       "      <th>ValueCounts_6</th>\n",
       "      <th>ValueCounts_9</th>\n",
       "      <th>ValueCounts_43</th>\n",
       "      <th>ValueCounts_44</th>\n",
       "      <th>RMSE</th>\n",
       "      <th>MAE</th>\n",
       "      <th>SymmetricTest</th>\n",
       "    </tr>\n",
       "  </thead>\n",
       "  <tbody>\n",
       "    <tr>\n",
       "      <td>0</td>\n",
       "      <td>1</td>\n",
       "      <td>20.204</td>\n",
       "      <td>9.805</td>\n",
       "      <td>19.384</td>\n",
       "      <td>0.292</td>\n",
       "      <td>-0.795</td>\n",
       "      <td>40</td>\n",
       "      <td>0.060</td>\n",
       "      <td>2</td>\n",
       "      <td>2</td>\n",
       "      <td>...</td>\n",
       "      <td>0.895</td>\n",
       "      <td>0.0</td>\n",
       "      <td>2</td>\n",
       "      <td>7</td>\n",
       "      <td>6</td>\n",
       "      <td>0</td>\n",
       "      <td>0</td>\n",
       "      <td>9.780</td>\n",
       "      <td>8.160</td>\n",
       "      <td>39.265</td>\n",
       "    </tr>\n",
       "    <tr>\n",
       "      <td>1</td>\n",
       "      <td>1</td>\n",
       "      <td>20.441</td>\n",
       "      <td>10.089</td>\n",
       "      <td>19.795</td>\n",
       "      <td>0.252</td>\n",
       "      <td>-0.901</td>\n",
       "      <td>39</td>\n",
       "      <td>0.060</td>\n",
       "      <td>1</td>\n",
       "      <td>0</td>\n",
       "      <td>...</td>\n",
       "      <td>0.795</td>\n",
       "      <td>0.0</td>\n",
       "      <td>2</td>\n",
       "      <td>7</td>\n",
       "      <td>8</td>\n",
       "      <td>0</td>\n",
       "      <td>0</td>\n",
       "      <td>10.064</td>\n",
       "      <td>8.465</td>\n",
       "      <td>39.439</td>\n",
       "    </tr>\n",
       "    <tr>\n",
       "      <td>2</td>\n",
       "      <td>1</td>\n",
       "      <td>20.073</td>\n",
       "      <td>10.071</td>\n",
       "      <td>19.336</td>\n",
       "      <td>0.262</td>\n",
       "      <td>-0.937</td>\n",
       "      <td>39</td>\n",
       "      <td>0.060</td>\n",
       "      <td>3</td>\n",
       "      <td>0</td>\n",
       "      <td>...</td>\n",
       "      <td>0.695</td>\n",
       "      <td>0.0</td>\n",
       "      <td>2</td>\n",
       "      <td>8</td>\n",
       "      <td>8</td>\n",
       "      <td>0</td>\n",
       "      <td>0</td>\n",
       "      <td>10.046</td>\n",
       "      <td>8.455</td>\n",
       "      <td>38.599</td>\n",
       "    </tr>\n",
       "    <tr>\n",
       "      <td>3</td>\n",
       "      <td>1</td>\n",
       "      <td>20.003</td>\n",
       "      <td>10.308</td>\n",
       "      <td>18.600</td>\n",
       "      <td>0.348</td>\n",
       "      <td>-0.874</td>\n",
       "      <td>41</td>\n",
       "      <td>0.060</td>\n",
       "      <td>3</td>\n",
       "      <td>1</td>\n",
       "      <td>...</td>\n",
       "      <td>0.595</td>\n",
       "      <td>0.0</td>\n",
       "      <td>2</td>\n",
       "      <td>8</td>\n",
       "      <td>11</td>\n",
       "      <td>1</td>\n",
       "      <td>0</td>\n",
       "      <td>10.283</td>\n",
       "      <td>8.617</td>\n",
       "      <td>39.665</td>\n",
       "    </tr>\n",
       "    <tr>\n",
       "      <td>4</td>\n",
       "      <td>1</td>\n",
       "      <td>20.399</td>\n",
       "      <td>10.436</td>\n",
       "      <td>18.635</td>\n",
       "      <td>0.337</td>\n",
       "      <td>-0.956</td>\n",
       "      <td>40</td>\n",
       "      <td>0.055</td>\n",
       "      <td>3</td>\n",
       "      <td>1</td>\n",
       "      <td>...</td>\n",
       "      <td>0.495</td>\n",
       "      <td>0.0</td>\n",
       "      <td>2</td>\n",
       "      <td>6</td>\n",
       "      <td>11</td>\n",
       "      <td>1</td>\n",
       "      <td>0</td>\n",
       "      <td>10.410</td>\n",
       "      <td>8.757</td>\n",
       "      <td>39.304</td>\n",
       "    </tr>\n",
       "  </tbody>\n",
       "</table>\n",
       "<p>5 rows × 77 columns</p>\n",
       "</div>"
      ],
      "text/plain": [
       "   Covert    Mean     Std  Median   Skew  Kurtosis  NumberUniqueValues  \\\n",
       "0       1  20.204   9.805  19.384  0.292    -0.795                  40   \n",
       "1       1  20.441  10.089  19.795  0.252    -0.901                  39   \n",
       "2       1  20.073  10.071  19.336  0.262    -0.937                  39   \n",
       "3       1  20.003  10.308  18.600  0.348    -0.874                  41   \n",
       "4       1  20.399  10.436  18.635  0.337    -0.956                  40   \n",
       "\n",
       "   ModeFreq  NumberModesKDE  NumberModesPareto  ...  1stLocOfMinimum  \\\n",
       "0     0.060               2                  2  ...            0.895   \n",
       "1     0.060               1                  0  ...            0.795   \n",
       "2     0.060               3                  0  ...            0.695   \n",
       "3     0.060               3                  1  ...            0.595   \n",
       "4     0.055               3                  1  ...            0.495   \n",
       "\n",
       "   RatioBeyond2.5  ValueCounts_4  ValueCounts_6  ValueCounts_9  \\\n",
       "0             0.0              2              7              6   \n",
       "1             0.0              2              7              8   \n",
       "2             0.0              2              8              8   \n",
       "3             0.0              2              8             11   \n",
       "4             0.0              2              6             11   \n",
       "\n",
       "   ValueCounts_43  ValueCounts_44    RMSE    MAE  SymmetricTest  \n",
       "0               0               0   9.780  8.160         39.265  \n",
       "1               0               0  10.064  8.465         39.439  \n",
       "2               0               0  10.046  8.455         38.599  \n",
       "3               1               0  10.283  8.617         39.665  \n",
       "4               1               0  10.410  8.757         39.304  \n",
       "\n",
       "[5 rows x 77 columns]"
      ]
     },
     "execution_count": 3,
     "metadata": {},
     "output_type": "execute_result"
    }
   ],
   "source": [
    "df_all = pd.read_csv('../data/dataset_with_features_ee3_200_20.csv')\n",
    "df_all.head()"
   ]
  },
  {
   "cell_type": "code",
   "execution_count": 4,
   "metadata": {
    "ExecuteTime": {
     "end_time": "2020-12-10T18:35:28.731232Z",
     "start_time": "2020-12-10T18:35:28.724287Z"
    }
   },
   "outputs": [],
   "source": [
    "nth_columns = ['Mean2th', 'Mean3th', 'Mean5th', 'Mean10th', 'Unique2th', 'Unique3th',\n",
    "               'Unique5th', 'Unique10th', 'Max2th', 'Max3th', 'Max5th', 'Max10th',\n",
    "               'Min2th', 'Min3th', 'Min5th', 'Min10th', 'Max_difference2th',\n",
    "               'Max_difference3th', 'Max_difference5th', 'Max_difference10th',\n",
    "               'Autocorrelation_8', 'Autocorrelation_16', 'Autocorrelation_24',\n",
    "               'Autocorrelation_40', 'C3_8', 'C3_16', 'C3_24', 'C3_40', 'CountAbove35', 'CountAbove43',\n",
    "               'ValueCounts_4', 'ValueCounts_6', 'ValueCounts_9', 'ValueCounts_43', 'ValueCounts_44']\n",
    "\n",
    "df = df_all.loc[:, ~df_all.columns.isin(nth_columns)]"
   ]
  },
  {
   "cell_type": "markdown",
   "metadata": {
    "heading_collapsed": true
   },
   "source": [
    "# Описание признаков"
   ]
  },
  {
   "cell_type": "markdown",
   "metadata": {
    "hidden": true
   },
   "source": [
    "Все признаки вычисляются для окна - массива чисел размера `window_size`.\n",
    "\n",
    "$*$ - перед вычислением статистики значения округлены до целых чисел.\n",
    "1. **mean** - среднее\n",
    "2. **std** - стандартное отклонение\n",
    "3. **median** - медиана\n",
    "4. **skewness** - коэффициент ассиметрии\n",
    "5. **kurtosis** - коэффициент эксцесса\n",
    "6. $*$ **number unique values** - кол-во уникальных значений\n",
    "7. $*$ **mode frequency** - частота, с котором встречается мода массива\n",
    "8. **number of modes, kde** - число мод распределения, определенное с помощью Kernel Density Estimation\n",
    "9. $*$ **number of modes, pareto** - число мод распределения, определенное с помощью метода Парето\n",
    "10. **mean Nth** `for N in {2, 3, 5, 10}` - среднее массива, составленного из N-ых элементов исходного массива\n",
    "11. **unique Nth** `for N in {2, 3, 5, 10}` - число уникальных элементов в массиве, составленного из N-ых элементов исходного массива\n",
    "12. **max Nth** `for N in {2, 3, 5, 10}` - максимум массива, составленного из N-ых элементов исходного массива\n",
    "13. **min Nth** `for N in {2, 3, 5, 10}` - минимум массива, составленного из N-ых элементов исходного массива\n",
    "14. **max difference Nth** `for N in {2, 3, 5, 10}` - `max Nth - min Nth`\n",
    "15. **sum** - сумма элементов массива\n",
    "16. **autocorrelation** - коэффициент автокорреляции для лагов `8, 16, 24, 40`\n",
    "17. **sum of autocorr coeffs** - сумма коэффициентов автокорреляции для лагов `8, 16, 24, 40`\n",
    "18. **max of autocorr coeffs** - максимум из коэффициентов автокорреляции для лагов `8, 16, 24, 40`\n",
    "19. $*$ **berk method** - метод оценки вероятности наличия скрытого канала на основе частоты среднего значения\n",
    "20. **average distribution width** - средняя ширина распределения, рассчитанная с помощью Kernel Density Estimation\n",
    "21. **runs test** - Wald–Wolfowitz runs test\n",
    "22. **sign test** - знаковый тест, нулевая гипотеза - элементы получены независимо\n",
    "23. **e-similarity** - эпсилон-близость\n",
    "24. $*$ **entropy** - величина энтропии\n",
    "25. **approximate entropy** - тоже энтропия, вычисленная с помощью `nolds.sampen`\n",
    "26. $*$ **gini** - величина критерия Джини\n",
    "27. $*$ **kolmogorov complexity** - Колмогоровская сложность строки, сжатие `zlib`\n",
    "28. **hurst exponent** - [показатель Хёрста](https://ru.wikipedia.org/wiki/Показатель_Хёрста)\n",
    "29. **regularity tests** - мера регулярности (в работе Cabuk 2004 используется Std и Std, а в работе Archibald 2014 предложено использовать и другие функции) [Std, Skew, Kurtosis] x [Mean, Std, Median]\n",
    "30. **haar cD1** - коэффициент вейвлет-преобразования (Mou 2012)\n",
    "31. **ADF test** - [Augmented Dickey–Fuller test](https://en.wikipedia.org/wiki/Augmented_Dickey–Fuller_test)\n",
    "32. **benford correlation** - [корреляция Бенфорда](https://tsfresh.readthedocs.io/en/latest/api/tsfresh.feature_extraction.html#tsfresh.feature_extraction.feature_calculators.benford_correlation), реализация как в библиотеке `tsfresh`\n",
    "33. **C3** - [мера нелинейности C3](https://tsfresh.readthedocs.io/en/latest/api/tsfresh.feature_extraction.html#tsfresh.feature_extraction.feature_calculators.c3) из `tsfresh` для лагов `8, 16, 24, 40`\n",
    "34. **complexity estimation** - [оценка сложности распределения](https://tsfresh.readthedocs.io/en/latest/api/tsfresh.feature_extraction.html#tsfresh.feature_extraction.feature_calculators.cid_ce) из `tsfresh`\n",
    "35. **count above** - количество элементов, значение которых больше порога. В качестве порога 35, 43\n",
    "36. **1st loc of max** - индекс первого появления максимума в массиве (из `tsfresh`)\n",
    "37. **1st loc of min** - индекс первого появления минимума в массиве (из `tsfresh`)\n",
    "38. **ratio beyond r** - количество элементов массива, не попадающих в интервал $\\mu ± 2.5\\sigma$ (из `tsfresh`)\n",
    "39. $*$ **value counts** - количество элементов, равных заданной величине. Используется `4, 6, 9, 43, 44`\n",
    "40. **rmse** - root mean squared error (между элементами и средним)\n",
    "41. **mae** - mean absolute error (между элементами и медианой)\n",
    "42. **symmetric test** - $max(A) - min(A) - |mean(A) - median(A)|$ "
   ]
  },
  {
   "cell_type": "markdown",
   "metadata": {},
   "source": [
    "# Подготовка данных"
   ]
  },
  {
   "cell_type": "code",
   "execution_count": 5,
   "metadata": {
    "ExecuteTime": {
     "end_time": "2020-12-10T18:35:31.683277Z",
     "start_time": "2020-12-10T18:35:31.678767Z"
    }
   },
   "outputs": [],
   "source": [
    "covert = df[df['Covert'] == 1]"
   ]
  },
  {
   "cell_type": "code",
   "execution_count": 6,
   "metadata": {
    "ExecuteTime": {
     "end_time": "2020-12-10T18:35:32.193133Z",
     "start_time": "2020-12-10T18:35:32.187619Z"
    }
   },
   "outputs": [],
   "source": [
    "overt = df[df['Covert'] == 0].reset_index(drop=True)"
   ]
  },
  {
   "cell_type": "code",
   "execution_count": 7,
   "metadata": {
    "ExecuteTime": {
     "end_time": "2020-12-10T18:35:32.581476Z",
     "start_time": "2020-12-10T18:35:32.578737Z"
    }
   },
   "outputs": [],
   "source": [
    "hold_size = 500\n",
    "train_size_covert = 1000\n",
    "train_size_overt = 1000"
   ]
  },
  {
   "cell_type": "markdown",
   "metadata": {},
   "source": [
    "Оставим hold часть для финальной оценки качества моделей"
   ]
  },
  {
   "cell_type": "code",
   "execution_count": 8,
   "metadata": {
    "ExecuteTime": {
     "end_time": "2020-12-10T18:35:38.483015Z",
     "start_time": "2020-12-10T18:35:38.475428Z"
    }
   },
   "outputs": [],
   "source": [
    "df_hold = pd.concat((covert[-hold_size:], overt[-hold_size:]), ignore_index=True, sort=False)"
   ]
  },
  {
   "cell_type": "code",
   "execution_count": 9,
   "metadata": {
    "ExecuteTime": {
     "end_time": "2020-12-10T18:35:39.136911Z",
     "start_time": "2020-12-10T18:35:39.131909Z"
    }
   },
   "outputs": [],
   "source": [
    "X_hold = df_hold.drop(['Covert'], axis=1)\n",
    "y_hold = df_hold['Covert']"
   ]
  },
  {
   "cell_type": "code",
   "execution_count": 10,
   "metadata": {
    "ExecuteTime": {
     "end_time": "2020-12-10T18:35:41.190918Z",
     "start_time": "2020-12-10T18:35:41.187719Z"
    }
   },
   "outputs": [],
   "source": [
    "np.random.seed(random_state)\n",
    "covert_indexes = np.random.randint(0, df.shape[0] // 2 - hold_size * 2, train_size_covert)"
   ]
  },
  {
   "cell_type": "code",
   "execution_count": 11,
   "metadata": {
    "ExecuteTime": {
     "end_time": "2020-12-10T18:35:41.445413Z",
     "start_time": "2020-12-10T18:35:41.442448Z"
    }
   },
   "outputs": [],
   "source": [
    "np.random.seed(random_state // 2)\n",
    "overt_indexes = np.random.randint(0, df.shape[0] // 2 - hold_size * 2, train_size_overt)"
   ]
  },
  {
   "cell_type": "code",
   "execution_count": 12,
   "metadata": {
    "ExecuteTime": {
     "end_time": "2020-12-10T18:35:43.568608Z",
     "start_time": "2020-12-10T18:35:43.560016Z"
    }
   },
   "outputs": [],
   "source": [
    "df_train = pd.concat((covert.loc[covert_indexes], overt.loc[overt_indexes]), ignore_index=True, sort=False)"
   ]
  },
  {
   "cell_type": "markdown",
   "metadata": {},
   "source": [
    "** Почему в качестве метрики качества классификации выбрана F1-мера? **\n",
    "\n",
    "Потому что она учитывает как полноту, так и точность обнаружения скрытого канала, следовательно позволяет лучше оценить качество классификации."
   ]
  },
  {
   "cell_type": "code",
   "execution_count": 13,
   "metadata": {
    "ExecuteTime": {
     "end_time": "2020-12-10T18:35:46.534501Z",
     "start_time": "2020-12-10T18:35:46.531052Z"
    }
   },
   "outputs": [],
   "source": [
    "def calculate_cross_val_score(estimator, X, y):\n",
    "    \"\"\" Функция вычисляет среднее значение F1-меры при кросс-валидации с 5 фолдами \"\"\"\n",
    "    return np.mean(cross_val_score(estimator, X, y, scoring='f1',\n",
    "                              cv=StratifiedKFold(n_splits=5, shuffle=True, random_state=random_state)))"
   ]
  },
  {
   "cell_type": "code",
   "execution_count": 14,
   "metadata": {
    "ExecuteTime": {
     "end_time": "2020-12-10T18:35:53.199672Z",
     "start_time": "2020-12-10T18:35:53.195524Z"
    }
   },
   "outputs": [],
   "source": [
    "results_features = pd.DataFrame(df.columns[1:], columns=['feature_name'])\n",
    "results_features['All features'] = 1"
   ]
  },
  {
   "cell_type": "code",
   "execution_count": 15,
   "metadata": {
    "ExecuteTime": {
     "end_time": "2020-12-10T18:35:54.618102Z",
     "start_time": "2020-12-10T18:35:54.611350Z"
    }
   },
   "outputs": [],
   "source": [
    "results_models = pd.DataFrame(columns=['DecisionTree', 'SVM', 'RF', 'Mean'])"
   ]
  },
  {
   "cell_type": "markdown",
   "metadata": {},
   "source": [
    "# Бейзлайн\n",
    "Первая версия - используются все признаки. Качество предсказания проверяется с помощью функции `calculate_cross_val_score` для трёх моделей. Обоснование их выбора:\n",
    "- `DecisionTreeClassifier` - классическое решающее дерево для классификации. Модель выбрана из-за скорости работы и интерпретируемости.\n",
    "- `SVM` - метод опорных векторов. Среди линейных моделей выбран именно он, так как показал лучшие результаты на кросс-валидации и встречается в большинстве работ по обнаружению скрытых каналов у других авторов.\n",
    "- `RandomForestClassifier` - случайный лес. Выбран в качестве более \"сложной\" модели, так как показал высокие результаты на кросс-валидации. Так же была попытка использовать разные вариации градиентного бустинга, однако из-за небольшого размера выборки модели сильно переобучались, и был сделан выбор в пользу более простых вариантов.\n",
    "\n",
    "Все модели используются с параметрами по умолчанию и фиксированным `random_state`."
   ]
  },
  {
   "cell_type": "markdown",
   "metadata": {},
   "source": [
    "### Decision Tree"
   ]
  },
  {
   "cell_type": "code",
   "execution_count": 16,
   "metadata": {
    "ExecuteTime": {
     "end_time": "2020-12-10T18:35:58.800060Z",
     "start_time": "2020-12-10T18:35:58.794708Z"
    }
   },
   "outputs": [],
   "source": [
    "X = df_train.drop(['Covert'], axis=1)\n",
    "y = df_train['Covert']"
   ]
  },
  {
   "cell_type": "code",
   "execution_count": 17,
   "metadata": {
    "ExecuteTime": {
     "end_time": "2020-12-10T18:35:59.320446Z",
     "start_time": "2020-12-10T18:35:59.106584Z"
    }
   },
   "outputs": [
    {
     "name": "stdout",
     "output_type": "stream",
     "text": [
      "0.8212697688254064\n"
     ]
    }
   ],
   "source": [
    "tree = DecisionTreeClassifier(random_state=random_state)\n",
    "dt_baseline = calculate_cross_val_score(tree, X, y)\n",
    "print(dt_baseline)"
   ]
  },
  {
   "cell_type": "markdown",
   "metadata": {},
   "source": [
    "#### Визуализация дерева"
   ]
  },
  {
   "cell_type": "code",
   "execution_count": 18,
   "metadata": {
    "ExecuteTime": {
     "end_time": "2020-12-10T18:36:01.825836Z",
     "start_time": "2020-12-10T18:36:01.778729Z"
    }
   },
   "outputs": [],
   "source": [
    "fitted_tree = DecisionTreeClassifier(random_state=random_state).fit(X, y)"
   ]
  },
  {
   "cell_type": "markdown",
   "metadata": {},
   "source": [
    "### SVM"
   ]
  },
  {
   "cell_type": "code",
   "execution_count": 20,
   "metadata": {
    "ExecuteTime": {
     "end_time": "2020-12-10T18:36:26.920274Z",
     "start_time": "2020-12-10T18:36:26.912668Z"
    }
   },
   "outputs": [],
   "source": [
    "standard_scaler = StandardScaler().fit(X)"
   ]
  },
  {
   "cell_type": "code",
   "execution_count": 21,
   "metadata": {
    "ExecuteTime": {
     "end_time": "2020-12-10T18:36:27.262165Z",
     "start_time": "2020-12-10T18:36:27.255992Z"
    }
   },
   "outputs": [],
   "source": [
    "X_std_scaled = pd.DataFrame(standard_scaler.transform(X), columns=X.columns)"
   ]
  },
  {
   "cell_type": "code",
   "execution_count": 22,
   "metadata": {
    "ExecuteTime": {
     "end_time": "2020-12-10T18:36:28.085942Z",
     "start_time": "2020-12-10T18:36:27.576076Z"
    }
   },
   "outputs": [
    {
     "name": "stdout",
     "output_type": "stream",
     "text": [
      "0.8879795984352166\n"
     ]
    }
   ],
   "source": [
    "svc = SVC(random_state=random_state)\n",
    "svm_baseline = calculate_cross_val_score(svc, X_std_scaled, y)\n",
    "print(svm_baseline)"
   ]
  },
  {
   "cell_type": "markdown",
   "metadata": {},
   "source": [
    "### RF"
   ]
  },
  {
   "cell_type": "code",
   "execution_count": 23,
   "metadata": {
    "ExecuteTime": {
     "end_time": "2020-12-10T18:36:32.544876Z",
     "start_time": "2020-12-10T18:36:30.176740Z"
    }
   },
   "outputs": [
    {
     "name": "stdout",
     "output_type": "stream",
     "text": [
      "0.8865590470906186\n"
     ]
    }
   ],
   "source": [
    "rf = RandomForestClassifier(random_state=random_state)\n",
    "rf_baseline = calculate_cross_val_score(rf, X, y)\n",
    "print(rf_baseline)"
   ]
  },
  {
   "cell_type": "markdown",
   "metadata": {},
   "source": [
    "### Функция для тестирования метода отбора признаков"
   ]
  },
  {
   "cell_type": "code",
   "execution_count": 24,
   "metadata": {
    "ExecuteTime": {
     "end_time": "2020-12-10T18:36:44.893331Z",
     "start_time": "2020-12-10T18:36:44.887721Z"
    }
   },
   "outputs": [],
   "source": [
    "def evaluate_feature_selection_method(features_to_use, method_name):\n",
    "    \"\"\" \n",
    "    Функция, тестирующая качество работы метода отбора признаков\n",
    "    \n",
    "    :param features_to_use: list, отобранные методом признаки\n",
    "    :param method_name: str, название метода отбора, которое будет записано в results_models\n",
    "    \"\"\"\n",
    "    \n",
    "    cross_val_scores = []\n",
    "    \n",
    "    print('Method:', method_name)\n",
    "    tree = DecisionTreeClassifier(random_state=random_state)\n",
    "    dt_score = round(calculate_cross_val_score(tree, X[features_to_use], y), 3)\n",
    "    cross_val_scores.append(dt_score)\n",
    "    print('Decision Tree:', dt_score)\n",
    "    \n",
    "    svm = SVC(random_state=random_state)\n",
    "    svm_score = round(calculate_cross_val_score(svm, X_std_scaled[features_to_use], y), 3)\n",
    "    cross_val_scores.append(svm_score)\n",
    "    print('SVM:', svm_score)\n",
    "    \n",
    "    rf = RandomForestClassifier(random_state=random_state)\n",
    "    rf_score = round(calculate_cross_val_score(rf, X[features_to_use], y), 3)\n",
    "    cross_val_scores.append(rf_score)\n",
    "    print('RF:', rf_score)\n",
    "    \n",
    "    mean = round(np.mean(cross_val_scores), 3)\n",
    "    print('Mean:', mean)\n",
    "    print('Save results into results_models dataframe')\n",
    "    results_models.loc[method_name] = cross_val_scores + [mean]"
   ]
  },
  {
   "cell_type": "markdown",
   "metadata": {},
   "source": [
    "Сохранение бейзлайн-результатов"
   ]
  },
  {
   "cell_type": "code",
   "execution_count": 25,
   "metadata": {
    "ExecuteTime": {
     "end_time": "2020-12-10T18:36:49.227956Z",
     "start_time": "2020-12-10T18:36:49.223567Z"
    }
   },
   "outputs": [],
   "source": [
    "scores_baseline = [dt_baseline, svm_baseline, rf_baseline]\n",
    "results_models.loc['All features'] = np.round(scores_baseline + [np.mean(scores_baseline)], 3)"
   ]
  },
  {
   "cell_type": "markdown",
   "metadata": {},
   "source": [
    "# Отбор признаков"
   ]
  },
  {
   "cell_type": "markdown",
   "metadata": {},
   "source": [
    "## Unsupervised methods\n",
    "Анализ корреляции между признаками"
   ]
  },
  {
   "cell_type": "code",
   "execution_count": 26,
   "metadata": {
    "ExecuteTime": {
     "end_time": "2020-12-10T18:36:52.295646Z",
     "start_time": "2020-12-10T18:36:52.287023Z"
    }
   },
   "outputs": [],
   "source": [
    "corr = X.corr()"
   ]
  },
  {
   "cell_type": "code",
   "execution_count": 27,
   "metadata": {
    "ExecuteTime": {
     "end_time": "2020-12-10T18:36:54.564942Z",
     "start_time": "2020-12-10T18:36:53.903720Z"
    }
   },
   "outputs": [
    {
     "data": {
      "text/plain": [
       "<AxesSubplot:>"
      ]
     },
     "execution_count": 27,
     "metadata": {},
     "output_type": "execute_result"
    },
    {
     "data": {
      "image/png": "[encoded data removed]",
      "text/plain": [
       "<Figure size 720x720 with 2 Axes>"
      ]
     },
     "metadata": {},
     "output_type": "display_data"
    }
   ],
   "source": [
    "plt.subplots(figsize=(10, 10))\n",
    "\n",
    "sns.heatmap(corr.loc[np.sum(np.abs(corr) > 0.8) > 1, np.sum(np.abs(corr) > 0.8) > 1])"
   ]
  },
  {
   "cell_type": "markdown",
   "metadata": {},
   "source": [
    "Вывод пар признаков, чья линейная корреляция по модулю > 0.85"
   ]
  },
  {
   "cell_type": "code",
   "execution_count": 28,
   "metadata": {
    "ExecuteTime": {
     "end_time": "2020-12-10T18:37:09.477279Z",
     "start_time": "2020-12-10T18:37:09.463341Z"
    }
   },
   "outputs": [
    {
     "name": "stdout",
     "output_type": "stream",
     "text": [
      "Mean and Sum - 1.0\n",
      "Std and RMSE - 1.0\n",
      "Std and MAE - 0.957\n",
      "NumberModesKDE and AverageDistWidth - -0.865\n",
      "Entropy and Gini - 0.919\n",
      "RegularityTestStdMean and RegularityTestStdStd - 0.904\n",
      "RegularityTestStdMean and RegularityTestStdMedian - 0.885\n",
      "RMSE and MAE - 0.957\n"
     ]
    }
   ],
   "source": [
    "threshold = 0.85\n",
    "features = corr.columns\n",
    "\n",
    "for i in range(corr.shape[0]):\n",
    "    for j in range(i + 1, corr.shape[0]):\n",
    "        corr_coeff = corr.iloc[i, j]\n",
    "        if abs(corr_coeff) > threshold:\n",
    "            print(f'{features[i]} and {features[j]} - {np.round(corr_coeff, 3)}')"
   ]
  },
  {
   "cell_type": "markdown",
   "metadata": {},
   "source": [
    "Удаляются признаки так, чтобы не осталось сильнокоррелирющих пар"
   ]
  },
  {
   "cell_type": "code",
   "execution_count": 29,
   "metadata": {
    "ExecuteTime": {
     "end_time": "2020-12-10T18:38:35.798905Z",
     "start_time": "2020-12-10T18:38:35.795630Z"
    }
   },
   "outputs": [],
   "source": [
    "corr_method_to_delete = {\n",
    "    'Sum',\n",
    "    'RMSE',\n",
    "    'MAE',\n",
    "    'AverageDistWidth',\n",
    "    'Gini',\n",
    "    'RegularityTestStdMean'\n",
    "}"
   ]
  },
  {
   "cell_type": "code",
   "execution_count": 30,
   "metadata": {
    "ExecuteTime": {
     "end_time": "2020-12-10T18:38:44.848260Z",
     "start_time": "2020-12-10T18:38:44.844035Z"
    }
   },
   "outputs": [],
   "source": [
    "results_features['Correlation'] = (~results_features.feature_name.isin(corr_method_to_delete)) * 1"
   ]
  },
  {
   "cell_type": "code",
   "execution_count": 31,
   "metadata": {
    "ExecuteTime": {
     "end_time": "2020-12-10T18:38:48.390245Z",
     "start_time": "2020-12-10T18:38:45.627644Z"
    }
   },
   "outputs": [
    {
     "name": "stdout",
     "output_type": "stream",
     "text": [
      "Method: Correlation\n",
      "Decision Tree: 0.824\n",
      "SVM: 0.89\n",
      "RF: 0.889\n",
      "Mean: 0.868\n",
      "Save results into results_models dataframe\n"
     ]
    }
   ],
   "source": [
    "evaluate_feature_selection_method(list(set(X.columns) - corr_method_to_delete), 'Correlation')"
   ]
  },
  {
   "cell_type": "code",
   "execution_count": 33,
   "metadata": {
    "ExecuteTime": {
     "end_time": "2020-12-10T18:39:00.947079Z",
     "start_time": "2020-12-10T18:39:00.931797Z"
    }
   },
   "outputs": [],
   "source": [
    "corr_ = X.loc[:, ~X.columns.isin(corr_method_to_delete)].corr()\n",
    "threshold = 0.85\n",
    "features = corr_.columns\n",
    "\n",
    "for i in range(corr_.shape[0]):\n",
    "    for j in range(i + 1, corr_.shape[0]):\n",
    "        corr_coeff = corr_.iloc[i, j]\n",
    "        if abs(corr_coeff) > threshold:\n",
    "            print(f'{features[i]} and {features[j]} - {np.round(corr_coeff, 3)}')"
   ]
  },
  {
   "cell_type": "markdown",
   "metadata": {},
   "source": [
    "## Filter methods\n",
    "Методы, использующие статистические критерии, в которых участвуют признаки и таргет "
   ]
  },
  {
   "cell_type": "code",
   "execution_count": 34,
   "metadata": {
    "ExecuteTime": {
     "end_time": "2020-12-10T18:39:05.045455Z",
     "start_time": "2020-12-10T18:39:05.042746Z"
    }
   },
   "outputs": [],
   "source": [
    "features_to_use = list(set(X.columns) - set(corr_method_to_delete))"
   ]
  },
  {
   "cell_type": "markdown",
   "metadata": {},
   "source": [
    "### 1. ANOVA F-test"
   ]
  },
  {
   "cell_type": "code",
   "execution_count": 35,
   "metadata": {
    "ExecuteTime": {
     "end_time": "2020-12-10T18:39:08.659029Z",
     "start_time": "2020-12-10T18:39:08.650951Z"
    }
   },
   "outputs": [],
   "source": [
    "anova = f_classif(X_std_scaled[features_to_use], y)"
   ]
  },
  {
   "cell_type": "code",
   "execution_count": 36,
   "metadata": {
    "ExecuteTime": {
     "end_time": "2020-12-10T18:39:09.165425Z",
     "start_time": "2020-12-10T18:39:09.162607Z"
    },
    "scrolled": true
   },
   "outputs": [],
   "source": [
    "anova_scores = {feature: score for score, feature in sorted(zip(anova[0], features_to_use), \n",
    "                                                            key=lambda x: x[0])}"
   ]
  },
  {
   "cell_type": "code",
   "execution_count": 37,
   "metadata": {
    "ExecuteTime": {
     "end_time": "2020-12-10T18:39:09.839272Z",
     "start_time": "2020-12-10T18:39:09.834543Z"
    }
   },
   "outputs": [],
   "source": [
    "results_features['Anova'] = results_features.feature_name.map(anova_scores).fillna(0)"
   ]
  },
  {
   "cell_type": "markdown",
   "metadata": {},
   "source": [
    "### 2. Kendall Tau test"
   ]
  },
  {
   "cell_type": "code",
   "execution_count": 38,
   "metadata": {
    "ExecuteTime": {
     "end_time": "2020-12-10T18:39:13.421072Z",
     "start_time": "2020-12-10T18:39:13.392938Z"
    }
   },
   "outputs": [],
   "source": [
    "kendall_corrs = []\n",
    "\n",
    "for feature in features_to_use:\n",
    "    kendall_corrs.append(kendalltau(X[feature], y).correlation)"
   ]
  },
  {
   "cell_type": "code",
   "execution_count": 39,
   "metadata": {
    "ExecuteTime": {
     "end_time": "2020-12-10T18:39:13.687133Z",
     "start_time": "2020-12-10T18:39:13.681812Z"
    }
   },
   "outputs": [],
   "source": [
    "kendall_scores = {feature: score for score, feature in sorted(zip(np.abs(kendall_corrs), features_to_use), \n",
    "                                                              key=lambda x: x[0])}\n",
    "\n",
    "results_features['Kendall'] = results_features.feature_name.map(kendall_scores).fillna(0)"
   ]
  },
  {
   "cell_type": "markdown",
   "metadata": {},
   "source": [
    "### 3. Chi2"
   ]
  },
  {
   "cell_type": "code",
   "execution_count": 40,
   "metadata": {
    "ExecuteTime": {
     "end_time": "2020-12-10T18:39:17.987672Z",
     "start_time": "2020-12-10T18:39:17.978146Z"
    }
   },
   "outputs": [],
   "source": [
    "minmax = MinMaxScaler().fit(X)\n",
    "X_minmax = pd.DataFrame(minmax.transform(X), columns=X.columns)"
   ]
  },
  {
   "cell_type": "code",
   "execution_count": 41,
   "metadata": {
    "ExecuteTime": {
     "end_time": "2020-12-10T18:39:19.922456Z",
     "start_time": "2020-12-10T18:39:19.913760Z"
    }
   },
   "outputs": [],
   "source": [
    "chi = chi2(X_minmax[features_to_use], y)"
   ]
  },
  {
   "cell_type": "code",
   "execution_count": 42,
   "metadata": {
    "ExecuteTime": {
     "end_time": "2020-12-10T18:39:21.535172Z",
     "start_time": "2020-12-10T18:39:21.530004Z"
    }
   },
   "outputs": [],
   "source": [
    "chi_scores = {feature: score for score, feature in sorted(zip(chi[0], features_to_use), \n",
    "                                                          key=lambda x: x[0])}\n",
    "\n",
    "results_features['Chi2'] = results_features.feature_name.map(chi_scores).fillna(0)"
   ]
  },
  {
   "cell_type": "markdown",
   "metadata": {},
   "source": [
    "## Feature importances\n",
    "Группа методов, использующих при отборе вес, который признаки приобретают в процессе обучения конкретной модели"
   ]
  },
  {
   "cell_type": "markdown",
   "metadata": {},
   "source": [
    "### 1. Linear coefficients\n",
    "У линейных моделей значимость признака определяется весом коэффициента, соответсвующего данному признаку. В качестве линейной модели классификации используется логистическая регрессия с L1-регуляризацией, которая зануляет веса незначимых признаков."
   ]
  },
  {
   "cell_type": "code",
   "execution_count": 43,
   "metadata": {
    "ExecuteTime": {
     "end_time": "2020-12-10T18:39:26.611120Z",
     "start_time": "2020-12-10T18:39:26.608776Z"
    }
   },
   "outputs": [],
   "source": [
    "lr = LogisticRegression(penalty='l1', C=0.1, solver='liblinear')"
   ]
  },
  {
   "cell_type": "code",
   "execution_count": 44,
   "metadata": {
    "ExecuteTime": {
     "end_time": "2020-12-10T18:39:27.935121Z",
     "start_time": "2020-12-10T18:39:27.913956Z"
    }
   },
   "outputs": [
    {
     "data": {
      "text/plain": [
       "LogisticRegression(C=0.1, penalty='l1', solver='liblinear')"
      ]
     },
     "execution_count": 44,
     "metadata": {},
     "output_type": "execute_result"
    }
   ],
   "source": [
    "lr.fit(X_std_scaled[features_to_use], y)"
   ]
  },
  {
   "cell_type": "code",
   "execution_count": 45,
   "metadata": {
    "ExecuteTime": {
     "end_time": "2020-12-10T18:39:29.731877Z",
     "start_time": "2020-12-10T18:39:29.729214Z"
    }
   },
   "outputs": [],
   "source": [
    "weights = lr.coef_"
   ]
  },
  {
   "cell_type": "code",
   "execution_count": 46,
   "metadata": {
    "ExecuteTime": {
     "end_time": "2020-12-10T18:39:30.823052Z",
     "start_time": "2020-12-10T18:39:30.817780Z"
    }
   },
   "outputs": [],
   "source": [
    "linear_scores = {feature: score for score, feature in sorted(zip(np.abs(weights[0]), features_to_use), \n",
    "                                                          key=lambda x: x[0])}\n",
    "\n",
    "results_features['Linear'] = results_features.feature_name.map(linear_scores).fillna(0)"
   ]
  },
  {
   "cell_type": "markdown",
   "metadata": {},
   "source": [
    "### 2. Decision Tree FE\n",
    "У решающих деревьев feature importance определяется как суммарное величина на которую этот признак уменьшил значение критерия Джини при расщеплении. "
   ]
  },
  {
   "cell_type": "code",
   "execution_count": 47,
   "metadata": {
    "ExecuteTime": {
     "end_time": "2020-12-10T18:39:35.986211Z",
     "start_time": "2020-12-10T18:39:35.945968Z"
    }
   },
   "outputs": [],
   "source": [
    "fitted_tree = DecisionTreeClassifier().fit(X[features_to_use], y)"
   ]
  },
  {
   "cell_type": "code",
   "execution_count": 48,
   "metadata": {
    "ExecuteTime": {
     "end_time": "2020-12-10T18:39:37.777067Z",
     "start_time": "2020-12-10T18:39:37.249717Z"
    }
   },
   "outputs": [
    {
     "name": "stdout",
     "output_type": "stream",
     "text": [
      "34\n"
     ]
    },
    {
     "data": {
      "text/plain": [
       "Text(0.5, 1.0, 'Decision Tree (baseline) Feature Importance')"
      ]
     },
     "execution_count": 48,
     "metadata": {},
     "output_type": "execute_result"
    },
    {
     "data": {
      "image/png": "[encoded data removed]",
      "text/plain": [
       "<Figure size 720x576 with 1 Axes>"
      ]
     },
     "metadata": {},
     "output_type": "display_data"
    }
   ],
   "source": [
    "fig, ax = plt.subplots(figsize=(10, 8))\n",
    "\n",
    "feat_imp = pd.DataFrame({\n",
    "    'names': X[features_to_use].columns,\n",
    "    'FeatImp': fitted_tree.feature_importances_})\n",
    "feat_imp = feat_imp.sort_values(by='FeatImp', ascending=False)\n",
    "feat_imp = feat_imp.loc[feat_imp['FeatImp'] > 0]\n",
    "print(feat_imp.shape[0])\n",
    "dt_to_use = feat_imp['names']\n",
    "\n",
    "\n",
    "sns.barplot(x=feat_imp['FeatImp'], y=feat_imp['names'], palette='rocket')\n",
    "plt.title('Decision Tree (baseline) Feature Importance')"
   ]
  },
  {
   "cell_type": "code",
   "execution_count": 49,
   "metadata": {
    "ExecuteTime": {
     "end_time": "2020-12-10T18:39:46.766552Z",
     "start_time": "2020-12-10T18:39:46.761077Z"
    }
   },
   "outputs": [],
   "source": [
    "tree_scores = {feature: score for score, feature in sorted(zip(fitted_tree.feature_importances_, \n",
    "                                                               features_to_use), \n",
    "                                                           key=lambda x: x[0])}\n",
    "\n",
    "results_features['DT FE'] = results_features.feature_name.map(tree_scores).fillna(0)"
   ]
  },
  {
   "cell_type": "markdown",
   "metadata": {},
   "source": [
    "### 3. Random Forest FE \n",
    "У случайного леса feature importance вычисляется аналогично решающему дереву, только величина для каждого признака суммируется по всем деревьям в лесе."
   ]
  },
  {
   "cell_type": "code",
   "execution_count": 50,
   "metadata": {
    "ExecuteTime": {
     "end_time": "2020-12-10T18:39:51.644224Z",
     "start_time": "2020-12-10T18:39:51.152626Z"
    }
   },
   "outputs": [
    {
     "data": {
      "text/plain": [
       "RandomForestClassifier(random_state=505)"
      ]
     },
     "execution_count": 50,
     "metadata": {},
     "output_type": "execute_result"
    }
   ],
   "source": [
    "rf.fit(X[features_to_use], y)"
   ]
  },
  {
   "cell_type": "code",
   "execution_count": 51,
   "metadata": {
    "ExecuteTime": {
     "end_time": "2020-12-10T18:39:53.020661Z",
     "start_time": "2020-12-10T18:39:52.544899Z"
    }
   },
   "outputs": [
    {
     "name": "stdout",
     "output_type": "stream",
     "text": [
      "31\n"
     ]
    },
    {
     "data": {
      "text/plain": [
       "Text(0.5, 1.0, 'RF (baseline) Feature Importance')"
      ]
     },
     "execution_count": 51,
     "metadata": {},
     "output_type": "execute_result"
    },
    {
     "data": {
      "image/png": "[encoded data removed]",
      "text/plain": [
       "<Figure size 576x432 with 1 Axes>"
      ]
     },
     "metadata": {},
     "output_type": "display_data"
    }
   ],
   "source": [
    "fig, ax = plt.subplots(figsize=(8, 6))\n",
    "\n",
    "feat_imp = pd.DataFrame({\n",
    "    'names': features_to_use,\n",
    "    'FeatImp': rf.feature_importances_})\n",
    "feat_imp = feat_imp.sort_values(by='FeatImp', ascending=False)\n",
    "feat_imp = feat_imp.loc[feat_imp['FeatImp'] > 0.01]\n",
    "print(feat_imp.shape[0])\n",
    "rf_to_use = feat_imp['names']\n",
    "\n",
    "\n",
    "sns.barplot(x=feat_imp['FeatImp'], y=feat_imp['names'], palette='rocket')\n",
    "plt.title('RF (baseline) Feature Importance')"
   ]
  },
  {
   "cell_type": "code",
   "execution_count": 52,
   "metadata": {
    "ExecuteTime": {
     "end_time": "2020-12-10T18:39:58.968474Z",
     "start_time": "2020-12-10T18:39:58.953517Z"
    }
   },
   "outputs": [],
   "source": [
    "rf_scores = {feature: score for score, feature in sorted(zip(rf.feature_importances_, \n",
    "                                                             features_to_use), \n",
    "                                                         key=lambda x: x[0])}\n",
    "\n",
    "results_features['RF FE'] = results_features.feature_name.map(rf_scores).fillna(0)"
   ]
  },
  {
   "cell_type": "markdown",
   "metadata": {},
   "source": [
    "Подбор оптимальных гиперпараметров для `RandomForestClassifier`"
   ]
  },
  {
   "cell_type": "code",
   "execution_count": 54,
   "metadata": {
    "ExecuteTime": {
     "end_time": "2020-12-10T18:41:26.673068Z",
     "start_time": "2020-12-10T18:41:10.422725Z"
    }
   },
   "outputs": [
    {
     "data": {
      "text/plain": [
       "[<matplotlib.lines.Line2D at 0x12f1fc7b8>]"
      ]
     },
     "execution_count": 54,
     "metadata": {},
     "output_type": "execute_result"
    },
    {
     "data": {
      "image/png": "[encoded data removed]",
      "text/plain": [
       "<Figure size 432x288 with 1 Axes>"
      ]
     },
     "metadata": {},
     "output_type": "display_data"
    }
   ],
   "source": [
    "ns = [20, 25, 30, 35, 45, 50, 60, 70, 80, 90, 100, 150]\n",
    "cv_scores = []\n",
    "for n in ns:\n",
    "    rf_ = RandomForestClassifier(n_estimators=n, random_state=random_state)\n",
    "    cv_scores.append(calculate_cross_val_score(rf_, X[features_to_use], y))\n",
    "    \n",
    "plt.plot(ns, cv_scores)"
   ]
  },
  {
   "cell_type": "code",
   "execution_count": 59,
   "metadata": {
    "ExecuteTime": {
     "end_time": "2020-12-10T18:44:24.866759Z",
     "start_time": "2020-12-10T18:44:24.863447Z"
    }
   },
   "outputs": [],
   "source": [
    "rf_parameters = {\n",
    "    'max_features': [7, 8, 9, 10, 15, 20],\n",
    "    'max_depth': [None, 8, 10, 12, 13, 14, 15, 16, 17, 20],\n",
    "}"
   ]
  },
  {
   "cell_type": "code",
   "execution_count": 60,
   "metadata": {
    "ExecuteTime": {
     "end_time": "2020-12-10T18:44:26.130506Z",
     "start_time": "2020-12-10T18:44:26.126561Z"
    }
   },
   "outputs": [],
   "source": [
    "rgs_rf = RandomizedSearchCV(RandomForestClassifier(n_estimators=50, random_state=random_state, n_jobs=-1),\n",
    "                        rf_parameters, \n",
    "                        n_iter=100,\n",
    "                        scoring='f1',\n",
    "                        cv=StratifiedKFold(n_splits=5, shuffle=True, random_state=random_state))"
   ]
  },
  {
   "cell_type": "code",
   "execution_count": 61,
   "metadata": {
    "ExecuteTime": {
     "end_time": "2020-12-10T18:45:42.776640Z",
     "start_time": "2020-12-10T18:44:26.454976Z"
    }
   },
   "outputs": [
    {
     "data": {
      "text/plain": [
       "RandomizedSearchCV(cv=StratifiedKFold(n_splits=5, random_state=505, shuffle=True),\n",
       "                   estimator=RandomForestClassifier(n_estimators=50, n_jobs=-1,\n",
       "                                                    random_state=505),\n",
       "                   n_iter=100,\n",
       "                   param_distributions={'max_depth': [None, 8, 10, 12, 13, 14,\n",
       "                                                      15, 16, 17, 20],\n",
       "                                        'max_features': [7, 8, 9, 10, 15, 20]},\n",
       "                   scoring='f1')"
      ]
     },
     "execution_count": 61,
     "metadata": {},
     "output_type": "execute_result"
    }
   ],
   "source": [
    "rgs_rf.fit(X[features_to_use], y)"
   ]
  },
  {
   "cell_type": "code",
   "execution_count": 62,
   "metadata": {
    "ExecuteTime": {
     "end_time": "2020-12-10T18:45:53.176816Z",
     "start_time": "2020-12-10T18:45:53.172702Z"
    }
   },
   "outputs": [
    {
     "data": {
      "text/plain": [
       "(0.8908563573994991, {'max_features': 9, 'max_depth': 14})"
      ]
     },
     "execution_count": 62,
     "metadata": {},
     "output_type": "execute_result"
    }
   ],
   "source": [
    "rgs_rf.best_score_, rgs_rf.best_params_"
   ]
  },
  {
   "cell_type": "code",
   "execution_count": 63,
   "metadata": {
    "ExecuteTime": {
     "end_time": "2020-12-10T18:45:59.944373Z",
     "start_time": "2020-12-10T18:45:59.339097Z"
    }
   },
   "outputs": [
    {
     "name": "stdout",
     "output_type": "stream",
     "text": [
      "33\n"
     ]
    },
    {
     "data": {
      "text/plain": [
       "Text(0.5, 1.0, 'RF (tuned) Feature Importance')"
      ]
     },
     "execution_count": 63,
     "metadata": {},
     "output_type": "execute_result"
    },
    {
     "data": {
      "image/png": "[encoded data removed]",
      "text/plain": [
       "<Figure size 576x432 with 1 Axes>"
      ]
     },
     "metadata": {},
     "output_type": "display_data"
    }
   ],
   "source": [
    "fig, ax = plt.subplots(figsize=(8, 6))\n",
    "\n",
    "feat_imp = pd.DataFrame({\n",
    "    'names': features_to_use,\n",
    "    'FeatImp': rgs_rf.best_estimator_.feature_importances_})\n",
    "feat_imp = feat_imp.sort_values(by='FeatImp', ascending=False)\n",
    "feat_imp = feat_imp.loc[feat_imp['FeatImp'] > 0.007]\n",
    "print(feat_imp.shape[0])\n",
    "rgs_rf_to_use = feat_imp['names']\n",
    "\n",
    "\n",
    "sns.barplot(x=feat_imp['FeatImp'], y=feat_imp['names'], palette='rocket')\n",
    "plt.title('RF (tuned) Feature Importance')"
   ]
  },
  {
   "cell_type": "code",
   "execution_count": 64,
   "metadata": {
    "ExecuteTime": {
     "end_time": "2020-12-10T18:46:05.893324Z",
     "start_time": "2020-12-10T18:46:05.779248Z"
    }
   },
   "outputs": [],
   "source": [
    "rf_tuned_scores = {feature: score for score, feature in sorted(zip(rgs_rf.best_estimator_.feature_importances_, \n",
    "                                                                   features_to_use), \n",
    "                                                               key=lambda x: x[0])}\n",
    "\n",
    "results_features['RF Tuned FE'] = results_features.feature_name.map(rf_tuned_scores).fillna(0)"
   ]
  },
  {
   "cell_type": "markdown",
   "metadata": {},
   "source": [
    "### 4. XGBoost FE\n",
    "Feature importance определяется аналогично случайному лесу"
   ]
  },
  {
   "cell_type": "code",
   "execution_count": 65,
   "metadata": {
    "ExecuteTime": {
     "end_time": "2020-12-10T18:46:09.630175Z",
     "start_time": "2020-12-10T18:46:09.627530Z"
    }
   },
   "outputs": [],
   "source": [
    "gb = GradientBoostingClassifier(random_state=random_state)"
   ]
  },
  {
   "cell_type": "code",
   "execution_count": 66,
   "metadata": {
    "ExecuteTime": {
     "end_time": "2020-12-10T18:46:11.100140Z",
     "start_time": "2020-12-10T18:46:10.019123Z"
    }
   },
   "outputs": [
    {
     "data": {
      "text/plain": [
       "GradientBoostingClassifier(random_state=505)"
      ]
     },
     "execution_count": 66,
     "metadata": {},
     "output_type": "execute_result"
    }
   ],
   "source": [
    "gb.fit(X[features_to_use], y)"
   ]
  },
  {
   "cell_type": "code",
   "execution_count": 67,
   "metadata": {
    "ExecuteTime": {
     "end_time": "2020-12-10T18:46:11.420707Z",
     "start_time": "2020-12-10T18:46:11.102393Z"
    }
   },
   "outputs": [
    {
     "name": "stdout",
     "output_type": "stream",
     "text": [
      "16\n"
     ]
    },
    {
     "data": {
      "text/plain": [
       "Text(0.5, 1.0, 'XGBoost Feature Importance')"
      ]
     },
     "execution_count": 67,
     "metadata": {},
     "output_type": "execute_result"
    },
    {
     "data": {
      "image/png": "[encoded data removed]",
      "text/plain": [
       "<Figure size 576x432 with 1 Axes>"
      ]
     },
     "metadata": {},
     "output_type": "display_data"
    }
   ],
   "source": [
    "fig, ax = plt.subplots(figsize=(8, 6))\n",
    "\n",
    "feat_imp = pd.DataFrame({\n",
    "    'names': features_to_use,\n",
    "    'FeatImp': gb.feature_importances_})\n",
    "feat_imp = feat_imp.sort_values(by='FeatImp', ascending=False)\n",
    "feat_imp = feat_imp.loc[feat_imp['FeatImp'] > 0.01]\n",
    "print(feat_imp.shape[0])\n",
    "gb_to_use = feat_imp['names']\n",
    "\n",
    "\n",
    "sns.barplot(x=feat_imp['FeatImp'], y=feat_imp['names'], palette='rocket')\n",
    "plt.title('XGBoost Feature Importance')"
   ]
  },
  {
   "cell_type": "code",
   "execution_count": 68,
   "metadata": {
    "ExecuteTime": {
     "end_time": "2020-12-10T18:46:14.281952Z",
     "start_time": "2020-12-10T18:46:14.274645Z"
    }
   },
   "outputs": [],
   "source": [
    "gb_scores = {feature: score for score, feature in sorted(zip(gb.feature_importances_, \n",
    "                                                             features_to_use), \n",
    "                                                         key=lambda x: x[0])}\n",
    "\n",
    "results_features['XGBoost FE'] = results_features.feature_name.map(gb_scores).fillna(0)"
   ]
  },
  {
   "cell_type": "markdown",
   "metadata": {},
   "source": [
    "### Permutation Importance\n",
    "Permutation Importance - метод, который определяет важность признаков следующим образом: измеряется на сколько ухудшается качество модели, если все значения данного признака перемешать случайным образом. Чем важнее признак, тем сильнее ухудшится качество модели. "
   ]
  },
  {
   "cell_type": "code",
   "execution_count": 69,
   "metadata": {
    "ExecuteTime": {
     "end_time": "2020-12-10T18:46:20.310149Z",
     "start_time": "2020-12-10T18:46:19.602102Z"
    }
   },
   "outputs": [],
   "source": [
    "r2 = permutation_importance(fitted_tree, X[features_to_use], y, scoring='f1', n_repeats=5)"
   ]
  },
  {
   "cell_type": "code",
   "execution_count": 70,
   "metadata": {
    "ExecuteTime": {
     "end_time": "2020-12-10T18:46:20.318351Z",
     "start_time": "2020-12-10T18:46:20.313371Z"
    }
   },
   "outputs": [],
   "source": [
    "pe_scores = {feature: score for score, feature in sorted(zip(r2.importances_mean, \n",
    "                                                             features_to_use), \n",
    "                                                         key=lambda x: x[0])}\n",
    "\n",
    "results_features['Permutation Importance'] = results_features.feature_name.map(pe_scores).fillna(0)"
   ]
  },
  {
   "cell_type": "markdown",
   "metadata": {},
   "source": [
    "### RFE\n",
    "Recursive Feature Elimination использует подход рекурсивного уменьшения количества признаков до тех пор, пока не будет достигнуто необходимое количество."
   ]
  },
  {
   "cell_type": "code",
   "execution_count": 71,
   "metadata": {
    "ExecuteTime": {
     "end_time": "2020-12-10T18:46:25.995185Z",
     "start_time": "2020-12-10T18:46:25.682185Z"
    }
   },
   "outputs": [
    {
     "data": {
      "text/plain": [
       "RFE(estimator=DecisionTreeClassifier(max_depth=5, random_state=505),\n",
       "    n_features_to_select=15)"
      ]
     },
     "execution_count": 71,
     "metadata": {},
     "output_type": "execute_result"
    }
   ],
   "source": [
    "rfe = RFE(estimator=DecisionTreeClassifier(max_depth=5, random_state=random_state), n_features_to_select=15)\n",
    "rfe.fit(X[features_to_use], y)"
   ]
  },
  {
   "cell_type": "code",
   "execution_count": 72,
   "metadata": {
    "ExecuteTime": {
     "end_time": "2020-12-10T18:46:26.951606Z",
     "start_time": "2020-12-10T18:46:26.946072Z"
    }
   },
   "outputs": [],
   "source": [
    "rfe_scores = {feature: score for score, feature in sorted(zip(rfe.support_ * 1, \n",
    "                                                              features_to_use), \n",
    "                                                          key=lambda x: x[0])}\n",
    "\n",
    "results_features['RFE'] = results_features.feature_name.map(rfe_scores).fillna(0)"
   ]
  },
  {
   "cell_type": "markdown",
   "metadata": {},
   "source": [
    "# Результаты\n",
    "Результаты сохранены в 2 датафрейма\n",
    "- `results_features` - строки: признаки, столбцы: методы отбора признаков, на пересечении: 0/1 в зависимости от того, используется ли этот признак при таком методе отбора\n",
    "- `results_models` - строки: методы отбора признаков, столбцы: 3 выбранные модели, на пересечении: значения f1-меры на кросс-валидации"
   ]
  },
  {
   "cell_type": "code",
   "execution_count": 73,
   "metadata": {
    "ExecuteTime": {
     "end_time": "2020-12-10T18:46:33.545570Z",
     "start_time": "2020-12-10T18:46:33.530322Z"
    }
   },
   "outputs": [
    {
     "data": {
      "text/html": [
       "<div>\n",
       "<style scoped>\n",
       "    .dataframe tbody tr th:only-of-type {\n",
       "        vertical-align: middle;\n",
       "    }\n",
       "\n",
       "    .dataframe tbody tr th {\n",
       "        vertical-align: top;\n",
       "    }\n",
       "\n",
       "    .dataframe thead th {\n",
       "        text-align: right;\n",
       "    }\n",
       "</style>\n",
       "<table border=\"1\" class=\"dataframe\">\n",
       "  <thead>\n",
       "    <tr style=\"text-align: right;\">\n",
       "      <th></th>\n",
       "      <th>feature_name</th>\n",
       "      <th>All features</th>\n",
       "      <th>Correlation</th>\n",
       "      <th>Anova</th>\n",
       "      <th>Kendall</th>\n",
       "      <th>Chi2</th>\n",
       "      <th>Linear</th>\n",
       "      <th>DT FE</th>\n",
       "      <th>RF FE</th>\n",
       "      <th>RF Tuned FE</th>\n",
       "      <th>XGBoost FE</th>\n",
       "      <th>Permutation Importance</th>\n",
       "      <th>RFE</th>\n",
       "    </tr>\n",
       "  </thead>\n",
       "  <tbody>\n",
       "    <tr>\n",
       "      <td>0</td>\n",
       "      <td>Mean</td>\n",
       "      <td>1</td>\n",
       "      <td>1</td>\n",
       "      <td>277.821842</td>\n",
       "      <td>0.297721</td>\n",
       "      <td>9.844066</td>\n",
       "      <td>0.816915</td>\n",
       "      <td>0.033524</td>\n",
       "      <td>0.049663</td>\n",
       "      <td>0.046856</td>\n",
       "      <td>0.057779</td>\n",
       "      <td>0.087716</td>\n",
       "      <td>1.0</td>\n",
       "    </tr>\n",
       "    <tr>\n",
       "      <td>1</td>\n",
       "      <td>Std</td>\n",
       "      <td>1</td>\n",
       "      <td>1</td>\n",
       "      <td>530.169712</td>\n",
       "      <td>0.384077</td>\n",
       "      <td>20.915126</td>\n",
       "      <td>0.240448</td>\n",
       "      <td>0.081192</td>\n",
       "      <td>0.093778</td>\n",
       "      <td>0.106476</td>\n",
       "      <td>0.136704</td>\n",
       "      <td>0.220742</td>\n",
       "      <td>1.0</td>\n",
       "    </tr>\n",
       "    <tr>\n",
       "      <td>2</td>\n",
       "      <td>Median</td>\n",
       "      <td>1</td>\n",
       "      <td>1</td>\n",
       "      <td>14.385244</td>\n",
       "      <td>0.091755</td>\n",
       "      <td>0.649980</td>\n",
       "      <td>0.000000</td>\n",
       "      <td>0.035800</td>\n",
       "      <td>0.022753</td>\n",
       "      <td>0.023344</td>\n",
       "      <td>0.011468</td>\n",
       "      <td>0.034568</td>\n",
       "      <td>0.0</td>\n",
       "    </tr>\n",
       "    <tr>\n",
       "      <td>3</td>\n",
       "      <td>Skew</td>\n",
       "      <td>1</td>\n",
       "      <td>1</td>\n",
       "      <td>3.392101</td>\n",
       "      <td>0.045159</td>\n",
       "      <td>0.141830</td>\n",
       "      <td>1.249153</td>\n",
       "      <td>0.038684</td>\n",
       "      <td>0.031698</td>\n",
       "      <td>0.032468</td>\n",
       "      <td>0.039503</td>\n",
       "      <td>0.083848</td>\n",
       "      <td>1.0</td>\n",
       "    </tr>\n",
       "    <tr>\n",
       "      <td>4</td>\n",
       "      <td>Kurtosis</td>\n",
       "      <td>1</td>\n",
       "      <td>1</td>\n",
       "      <td>482.150583</td>\n",
       "      <td>0.359771</td>\n",
       "      <td>21.829554</td>\n",
       "      <td>1.141869</td>\n",
       "      <td>0.033604</td>\n",
       "      <td>0.062210</td>\n",
       "      <td>0.040808</td>\n",
       "      <td>0.027749</td>\n",
       "      <td>0.037514</td>\n",
       "      <td>1.0</td>\n",
       "    </tr>\n",
       "  </tbody>\n",
       "</table>\n",
       "</div>"
      ],
      "text/plain": [
       "  feature_name  All features  Correlation       Anova   Kendall       Chi2  \\\n",
       "0         Mean             1            1  277.821842  0.297721   9.844066   \n",
       "1          Std             1            1  530.169712  0.384077  20.915126   \n",
       "2       Median             1            1   14.385244  0.091755   0.649980   \n",
       "3         Skew             1            1    3.392101  0.045159   0.141830   \n",
       "4     Kurtosis             1            1  482.150583  0.359771  21.829554   \n",
       "\n",
       "     Linear     DT FE     RF FE  RF Tuned FE  XGBoost FE  \\\n",
       "0  0.816915  0.033524  0.049663     0.046856    0.057779   \n",
       "1  0.240448  0.081192  0.093778     0.106476    0.136704   \n",
       "2  0.000000  0.035800  0.022753     0.023344    0.011468   \n",
       "3  1.249153  0.038684  0.031698     0.032468    0.039503   \n",
       "4  1.141869  0.033604  0.062210     0.040808    0.027749   \n",
       "\n",
       "   Permutation Importance  RFE  \n",
       "0                0.087716  1.0  \n",
       "1                0.220742  1.0  \n",
       "2                0.034568  0.0  \n",
       "3                0.083848  1.0  \n",
       "4                0.037514  1.0  "
      ]
     },
     "execution_count": 73,
     "metadata": {},
     "output_type": "execute_result"
    }
   ],
   "source": [
    "results_features.head()"
   ]
  },
  {
   "cell_type": "code",
   "execution_count": 74,
   "metadata": {
    "ExecuteTime": {
     "end_time": "2020-12-10T18:47:31.546611Z",
     "start_time": "2020-12-10T18:47:31.535599Z"
    }
   },
   "outputs": [],
   "source": [
    "for col in results_features.drop(['feature_name'], axis=1).columns:\n",
    "    results_features[col] = results_features[col] / results_features[col].sum()"
   ]
  },
  {
   "cell_type": "code",
   "execution_count": 75,
   "metadata": {
    "ExecuteTime": {
     "end_time": "2020-12-10T18:47:32.125566Z",
     "start_time": "2020-12-10T18:47:32.120251Z"
    }
   },
   "outputs": [],
   "source": [
    "results_features['Sum'] = results_features.drop(['feature_name'], axis=1).sum(axis=1)"
   ]
  },
  {
   "cell_type": "code",
   "execution_count": 76,
   "metadata": {
    "ExecuteTime": {
     "end_time": "2020-12-10T18:47:33.061442Z",
     "start_time": "2020-12-10T18:47:33.055884Z"
    }
   },
   "outputs": [],
   "source": [
    "results_features = results_features.loc[results_features.feature_name.isin(features_to_use)] \\\n",
    "                        .sort_values(by=['Sum'], ascending=False) \\\n",
    "                        .reset_index(drop=True)"
   ]
  },
  {
   "cell_type": "code",
   "execution_count": 77,
   "metadata": {
    "ExecuteTime": {
     "end_time": "2020-12-10T18:47:34.302999Z",
     "start_time": "2020-12-10T18:47:33.896045Z"
    }
   },
   "outputs": [
    {
     "data": {
      "text/plain": [
       "Text(0.5, 1.0, 'График зависимости суммарной важности признака от его порядкового номера')"
      ]
     },
     "execution_count": 77,
     "metadata": {},
     "output_type": "execute_result"
    },
    {
     "data": {
      "image/png": "[encoded data removed]",
      "text/plain": [
       "<Figure size 1080x504 with 1 Axes>"
      ]
     },
     "metadata": {},
     "output_type": "display_data"
    }
   ],
   "source": [
    "plt.subplots(figsize=(15, 7))\n",
    "plt.plot([i for i in range(1,36)], results_features['Sum'])\n",
    "plt.xticks([i for i in range(1,36)])\n",
    "plt.xlim(1,35)\n",
    "plt.grid()\n",
    "plt.xlabel('Порядковый номер признака')\n",
    "plt.ylabel('Суммарная важность признака')\n",
    "plt.title('График зависимости суммарной важности признака от его порядкового номера')"
   ]
  },
  {
   "cell_type": "code",
   "execution_count": 83,
   "metadata": {
    "ExecuteTime": {
     "end_time": "2020-12-10T18:54:01.658127Z",
     "start_time": "2020-12-10T18:52:44.645381Z"
    },
    "collapsed": true
   },
   "outputs": [
    {
     "name": "stdout",
     "output_type": "stream",
     "text": [
      "Method: Top 1 features\n",
      "Decision Tree: 0.766\n",
      "SVM: 0.766\n",
      "RF: 0.766\n",
      "Mean: 0.766\n",
      "Save results into results_models dataframe\n",
      "Method: Top 2 features\n",
      "Decision Tree: 0.745\n",
      "SVM: 0.766\n",
      "RF: 0.753\n",
      "Mean: 0.755\n",
      "Save results into results_models dataframe\n",
      "Method: Top 3 features\n",
      "Decision Tree: 0.769\n",
      "SVM: 0.767\n",
      "RF: 0.806\n",
      "Mean: 0.781\n",
      "Save results into results_models dataframe\n",
      "Method: Top 4 features\n",
      "Decision Tree: 0.814\n",
      "SVM: 0.791\n",
      "RF: 0.843\n",
      "Mean: 0.816\n",
      "Save results into results_models dataframe\n",
      "Method: Top 5 features\n",
      "Decision Tree: 0.81\n",
      "SVM: 0.798\n",
      "RF: 0.847\n",
      "Mean: 0.818\n",
      "Save results into results_models dataframe\n",
      "Method: Top 6 features\n",
      "Decision Tree: 0.826\n",
      "SVM: 0.802\n",
      "RF: 0.844\n",
      "Mean: 0.824\n",
      "Save results into results_models dataframe\n",
      "Method: Top 7 features\n",
      "Decision Tree: 0.819\n",
      "SVM: 0.805\n",
      "RF: 0.856\n",
      "Mean: 0.827\n",
      "Save results into results_models dataframe\n",
      "Method: Top 8 features\n",
      "Decision Tree: 0.827\n",
      "SVM: 0.838\n",
      "RF: 0.865\n",
      "Mean: 0.843\n",
      "Save results into results_models dataframe\n",
      "Method: Top 9 features\n",
      "Decision Tree: 0.821\n",
      "SVM: 0.85\n",
      "RF: 0.879\n",
      "Mean: 0.85\n",
      "Save results into results_models dataframe\n",
      "Method: Top 10 features\n",
      "Decision Tree: 0.827\n",
      "SVM: 0.855\n",
      "RF: 0.883\n",
      "Mean: 0.855\n",
      "Save results into results_models dataframe\n",
      "Method: Top 11 features\n",
      "Decision Tree: 0.832\n",
      "SVM: 0.863\n",
      "RF: 0.886\n",
      "Mean: 0.86\n",
      "Save results into results_models dataframe\n",
      "Method: Top 12 features\n",
      "Decision Tree: 0.833\n",
      "SVM: 0.86\n",
      "RF: 0.883\n",
      "Mean: 0.859\n",
      "Save results into results_models dataframe\n",
      "Method: Top 13 features\n",
      "Decision Tree: 0.825\n",
      "SVM: 0.871\n",
      "RF: 0.888\n",
      "Mean: 0.861\n",
      "Save results into results_models dataframe\n",
      "Method: Top 14 features\n",
      "Decision Tree: 0.831\n",
      "SVM: 0.867\n",
      "RF: 0.888\n",
      "Mean: 0.862\n",
      "Save results into results_models dataframe\n",
      "Method: Top 15 features\n",
      "Decision Tree: 0.828\n",
      "SVM: 0.869\n",
      "RF: 0.882\n",
      "Mean: 0.86\n",
      "Save results into results_models dataframe\n",
      "Method: Top 16 features\n",
      "Decision Tree: 0.828\n",
      "SVM: 0.866\n",
      "RF: 0.892\n",
      "Mean: 0.862\n",
      "Save results into results_models dataframe\n",
      "Method: Top 17 features\n",
      "Decision Tree: 0.831\n",
      "SVM: 0.872\n",
      "RF: 0.888\n",
      "Mean: 0.864\n",
      "Save results into results_models dataframe\n",
      "Method: Top 18 features\n",
      "Decision Tree: 0.823\n",
      "SVM: 0.872\n",
      "RF: 0.892\n",
      "Mean: 0.862\n",
      "Save results into results_models dataframe\n",
      "Method: Top 19 features\n",
      "Decision Tree: 0.826\n",
      "SVM: 0.869\n",
      "RF: 0.896\n",
      "Mean: 0.864\n",
      "Save results into results_models dataframe\n",
      "Method: Top 20 features\n",
      "Decision Tree: 0.831\n",
      "SVM: 0.872\n",
      "RF: 0.885\n",
      "Mean: 0.863\n",
      "Save results into results_models dataframe\n",
      "Method: Top 21 features\n",
      "Decision Tree: 0.824\n",
      "SVM: 0.872\n",
      "RF: 0.892\n",
      "Mean: 0.863\n",
      "Save results into results_models dataframe\n",
      "Method: Top 22 features\n",
      "Decision Tree: 0.822\n",
      "SVM: 0.876\n",
      "RF: 0.887\n",
      "Mean: 0.862\n",
      "Save results into results_models dataframe\n",
      "Method: Top 23 features\n",
      "Decision Tree: 0.821\n",
      "SVM: 0.874\n",
      "RF: 0.891\n",
      "Mean: 0.862\n",
      "Save results into results_models dataframe\n",
      "Method: Top 24 features\n",
      "Decision Tree: 0.812\n",
      "SVM: 0.88\n",
      "RF: 0.891\n",
      "Mean: 0.861\n",
      "Save results into results_models dataframe\n",
      "Method: Top 25 features\n",
      "Decision Tree: 0.81\n",
      "SVM: 0.883\n",
      "RF: 0.89\n",
      "Mean: 0.861\n",
      "Save results into results_models dataframe\n",
      "Method: Top 26 features\n",
      "Decision Tree: 0.816\n",
      "SVM: 0.881\n",
      "RF: 0.891\n",
      "Mean: 0.863\n",
      "Save results into results_models dataframe\n",
      "Method: Top 27 features\n",
      "Decision Tree: 0.817\n",
      "SVM: 0.881\n",
      "RF: 0.89\n",
      "Mean: 0.863\n",
      "Save results into results_models dataframe\n",
      "Method: Top 28 features\n",
      "Decision Tree: 0.828\n",
      "SVM: 0.89\n",
      "RF: 0.89\n",
      "Mean: 0.869\n",
      "Save results into results_models dataframe\n",
      "Method: Top 29 features\n",
      "Decision Tree: 0.82\n",
      "SVM: 0.888\n",
      "RF: 0.889\n",
      "Mean: 0.866\n",
      "Save results into results_models dataframe\n",
      "Method: Top 30 features\n",
      "Decision Tree: 0.828\n",
      "SVM: 0.886\n",
      "RF: 0.883\n",
      "Mean: 0.866\n",
      "Save results into results_models dataframe\n",
      "Method: Top 31 features\n",
      "Decision Tree: 0.82\n",
      "SVM: 0.886\n",
      "RF: 0.886\n",
      "Mean: 0.864\n",
      "Save results into results_models dataframe\n",
      "Method: Top 32 features\n",
      "Decision Tree: 0.819\n",
      "SVM: 0.886\n",
      "RF: 0.886\n",
      "Mean: 0.864\n",
      "Save results into results_models dataframe\n",
      "Method: Top 33 features\n",
      "Decision Tree: 0.82\n",
      "SVM: 0.884\n",
      "RF: 0.89\n",
      "Mean: 0.865\n",
      "Save results into results_models dataframe\n",
      "Method: Top 34 features\n",
      "Decision Tree: 0.825\n",
      "SVM: 0.888\n",
      "RF: 0.891\n",
      "Mean: 0.868\n",
      "Save results into results_models dataframe\n",
      "Method: Top 35 features\n",
      "Decision Tree: 0.817\n",
      "SVM: 0.89\n",
      "RF: 0.882\n",
      "Mean: 0.863\n",
      "Save results into results_models dataframe\n"
     ]
    }
   ],
   "source": [
    "for i in range(1, 36):\n",
    "    evaluate_feature_selection_method(results_features.feature_name[:i].values, f'Top {i} features')"
   ]
  },
  {
   "cell_type": "markdown",
   "metadata": {},
   "source": [
    "Список отобранных признаков:"
   ]
  },
  {
   "cell_type": "code",
   "execution_count": 87,
   "metadata": {
    "ExecuteTime": {
     "end_time": "2020-12-10T19:02:59.956319Z",
     "start_time": "2020-12-10T19:02:59.951139Z"
    }
   },
   "outputs": [
    {
     "data": {
      "text/plain": [
       "0            RatioBeyond2.5\n",
       "1                       Std\n",
       "2                  Kurtosis\n",
       "3             SymmetricTest\n",
       "4             HurstExponent\n",
       "5                      Mean\n",
       "6         MaxAutocorrCoeffs\n",
       "7                      Skew\n",
       "8                   HaarCD1\n",
       "9        BenfordCorrelation\n",
       "10        SumAutocorrCoeffs\n",
       "11       ApproximateEntropy\n",
       "12                  Entropy\n",
       "13    RegularityTestSkewStd\n",
       "14               BerkMethod\n",
       "Name: feature_name, dtype: object"
      ]
     },
     "execution_count": 87,
     "metadata": {},
     "output_type": "execute_result"
    }
   ],
   "source": [
    "results_features.feature_name[:15]"
   ]
  },
  {
   "cell_type": "code",
   "execution_count": null,
   "metadata": {},
   "outputs": [],
   "source": []
  }
 ],
 "metadata": {
  "kernelspec": {
   "display_name": "Python 3",
   "language": "python",
   "name": "python3"
  },
  "language_info": {
   "codemirror_mode": {
    "name": "ipython",
    "version": 3
   },
   "file_extension": ".py",
   "mimetype": "text/x-python",
   "name": "python",
   "nbconvert_exporter": "python",
   "pygments_lexer": "ipython3",
   "version": "3.6.8"
  }
 },
 "nbformat": 4,
 "nbformat_minor": 2
}
